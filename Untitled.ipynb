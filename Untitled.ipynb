{
 "cells": [
  {
   "cell_type": "code",
   "execution_count": 1,
   "metadata": {
    "collapsed": true
   },
   "outputs": [],
   "source": [
    "from urllib.request import Request, urlopen\n",
    "from bs4 import BeautifulSoup"
   ]
  },
  {
   "cell_type": "code",
   "execution_count": 2,
   "metadata": {
    "collapsed": true
   },
   "outputs": [],
   "source": [
    "def load_page():\n",
    "    req = Request('https://in.investing.com/commodities/crude-oil', headers={'User-Agent': 'Mozilla/5.0'})\n",
    "    webpage = urlopen(req).read()\n",
    "    return webpage"
   ]
  },
  {
   "cell_type": "code",
   "execution_count": 3,
   "metadata": {
    "collapsed": true
   },
   "outputs": [],
   "source": [
    "def fetch_opening():\n",
    "    webpage = \"\"\n",
    "    soup = BeautifulSoup(load_page(), 'html.parser')\n",
    "    x = soup.find_all('span',class_=\"arial_26 inlineblock pid-8849-last\")\n",
    "    return x[0].contents[0]"
   ]
  },
  {
   "cell_type": "code",
   "execution_count": 4,
   "metadata": {
    "collapsed": true
   },
   "outputs": [],
   "source": [
    "def fetch_current():\n",
    "    webpage = \"\"\n",
    "    soup = BeautifulSoup(load_page(), 'html.parser')\n",
    "    x = soup.find_all('span',class_=\"arial_26 inlineblock pid-8849-last\")\n",
    "    return x[0].contents[0]"
   ]
  },
  {
   "cell_type": "code",
   "execution_count": 6,
   "metadata": {},
   "outputs": [
    {
     "data": {
      "text/plain": [
       "'49.84'"
      ]
     },
     "execution_count": 6,
     "metadata": {},
     "output_type": "execute_result"
    }
   ],
   "source": [
    "fetch_current()"
   ]
  },
  {
   "cell_type": "code",
   "execution_count": 5,
   "metadata": {
    "collapsed": true
   },
   "outputs": [],
   "source": [
    "def fetch_summary():\n",
    "    webpage = \"\"\n",
    "    soup = BeautifulSoup(load_page(), 'html.parser')\n",
    "    x = soup.find_all('div',class_=\"bottomText float_lang_base_1\")\n",
    "    return x"
   ]
  },
  {
   "cell_type": "code",
   "execution_count": 6,
   "metadata": {
    "collapsed": true
   },
   "outputs": [],
   "source": [
    "def fetch_close():    \n",
    "    a = fetch_summary()\n",
    "    a=a[0]\n",
    "    stri = str(a)\n",
    "    return stri[stri.find('ltr')+5:stri.find('</span>',stri.find('ltr'))]"
   ]
  },
  {
   "cell_type": "code",
   "execution_count": 54,
   "metadata": {},
   "outputs": [
    {
     "data": {
      "text/plain": [
       "'49.58'"
      ]
     },
     "execution_count": 54,
     "metadata": {},
     "output_type": "execute_result"
    }
   ],
   "source": [
    "fetch_close()"
   ]
  },
  {
   "cell_type": "code",
   "execution_count": 7,
   "metadata": {},
   "outputs": [
    {
     "data": {
      "text/plain": [
       "[<div class=\"bottomText float_lang_base_1\">\n",
       " <ul class=\"bold\">\n",
       " <li><span class=\"lighterGrayFont noBold\">Prev. Close:</span> <span dir=\"ltr\">49.58</span></li>\n",
       " <li><span class=\"lighterGrayFont noBold\">Open:</span> <span dir=\"ltr\">49.55</span></li>\n",
       " <li><span class=\"lighterGrayFont noBold\">Day's Range:</span> <span dir=\"ltr\"><span class=\"inlineblock pid-8849-low\">49.53</span> - <span class=\"inlineblock pid-8849-high\">50.66</span></span></li>\n",
       " </ul>\n",
       " </div>]"
      ]
     },
     "execution_count": 7,
     "metadata": {},
     "output_type": "execute_result"
    }
   ],
   "source": [
    "fetch_summary()"
   ]
  },
  {
   "cell_type": "code",
   "execution_count": 34,
   "metadata": {
    "collapsed": true
   },
   "outputs": [],
   "source": [
    "def fetch_open():\n",
    "    a = fetch_summary()\n",
    "    a=a[0]\n",
    "    stri = str(a)\n",
    "    s = stri[stri.find('Open:</span> <span dir=\"ltr\">'):]\n",
    "    open_ = s[s.find('\"ltr\">')+6:s.find('</span></li>\\n<li><span class=\"lighterGrayFont noBold\">')]\n",
    "    return open_"
   ]
  },
  {
   "cell_type": "code",
   "execution_count": 35,
   "metadata": {},
   "outputs": [
    {
     "data": {
      "text/plain": [
       "'50.93'"
      ]
     },
     "execution_count": 35,
     "metadata": {},
     "output_type": "execute_result"
    }
   ],
   "source": [
    "fetch_open()"
   ]
  },
  {
   "cell_type": "code",
   "execution_count": null,
   "metadata": {
    "collapsed": true
   },
   "outputs": [],
   "source": []
  }
 ],
 "metadata": {
  "kernelspec": {
   "display_name": "Python [default]",
   "language": "python",
   "name": "python3"
  },
  "language_info": {
   "codemirror_mode": {
    "name": "ipython",
    "version": 3
   },
   "file_extension": ".py",
   "mimetype": "text/x-python",
   "name": "python",
   "nbconvert_exporter": "python",
   "pygments_lexer": "ipython3",
   "version": "3.6.1"
  }
 },
 "nbformat": 4,
 "nbformat_minor": 2
}
